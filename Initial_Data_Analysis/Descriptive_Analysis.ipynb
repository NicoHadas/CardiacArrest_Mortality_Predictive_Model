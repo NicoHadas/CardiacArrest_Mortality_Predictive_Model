{
 "cells": [
  {
   "cell_type": "markdown",
   "metadata": {},
   "source": [
    "# **Descriptive Analysis**"
   ]
  },
  {
   "cell_type": "code",
   "execution_count": 1,
   "metadata": {},
   "outputs": [],
   "source": [
    "# Import Necessary Packages\n",
    "import pandas as pd\n",
    "import numpy as np"
   ]
  },
  {
   "cell_type": "code",
   "execution_count": null,
   "metadata": {},
   "outputs": [],
   "source": [
    "# Set Working Directory \n",
    "import os \n",
    "os.chdir(\"/home/nico/BMIDS_FP\")\n",
    "os.getcwd()"
   ]
  },
  {
   "cell_type": "markdown",
   "metadata": {},
   "source": [
    "## Table: **chartevents**"
   ]
  },
  {
   "cell_type": "code",
   "execution_count": 10,
   "metadata": {},
   "outputs": [],
   "source": [
    "# Load csv\n",
    "df_chartevents = pd.read_csv(\"chartevents.csv\")"
   ]
  },
  {
   "cell_type": "code",
   "execution_count": 7,
   "metadata": {},
   "outputs": [],
   "source": [
    "# Create Copy \n",
    "df_chartevents2 = df_chartevents.copy()"
   ]
  },
  {
   "cell_type": "code",
   "execution_count": 11,
   "metadata": {},
   "outputs": [],
   "source": [
    "# Convert timestamps to date time \n",
    "df_chartevents['charttime'] = pd.to_datetime(df_chartevents['charttime'])\n",
    "df_chartevents['storetime']= pd.to_datetime(df_chartevents['storetime'])"
   ]
  },
  {
   "cell_type": "code",
   "execution_count": null,
   "metadata": {},
   "outputs": [],
   "source": [
    "# Get number of unique values for each column and whether the column is unique \n",
    "unique_vals = pd.DataFrame(df_chartevents.nunique())[0].tolist()\n",
    "unique_vals_count = [val == len(df_chartevents) for val in unique_vals]\n",
    "print(unique_vals)\n",
    "print(unique_vals_count)"
   ]
  },
  {
   "cell_type": "code",
   "execution_count": null,
   "metadata": {},
   "outputs": [],
   "source": [
    "# Get count of null values in each column and calculate the percentage of nulls\n",
    "df_chartevents_null = pd.DataFrame(df_chartevents.isna().sum().reset_index()).rename({'index':'name', 0:'null_count'}, axis=1)\n",
    "\n",
    "# Get percent null by dividing null_count column by length of df * 100 and formatting into percentage\n",
    "df_chartevents_null['percent_null'] = df_chartevents_null['null_count'].apply(lambda x: f\"{round(x/df_chartevents.shape[0]*100, 1)}%\")\n",
    "null_counts = df_chartevents_null.null_count.tolist()\n",
    "percent_nulls = df_chartevents_null.percent_null.tolist()\n",
    "print(null_counts[0:5])\n",
    "print(percent_nulls[0:5])"
   ]
  },
  {
   "cell_type": "code",
   "execution_count": null,
   "metadata": {},
   "outputs": [],
   "source": [
    "# Get data types for each column\n",
    "dtype_vals = pd.DataFrame(df_chartevents.dtypes)[0].tolist()\n",
    "dtype_vals"
   ]
  },
  {
   "cell_type": "code",
   "execution_count": null,
   "metadata": {},
   "outputs": [],
   "source": [
    "# Calculate mode\n",
    "modes = df_chartevents.mode().iloc[0,]\n",
    "modes"
   ]
  },
  {
   "cell_type": "code",
   "execution_count": null,
   "metadata": {},
   "outputs": [],
   "source": [
    "# Calculate median\n",
    "medians = []\n",
    "for i in df_chartevents.columns:\n",
    "    if (df_chartevents[i]).dtype == \"O\":\n",
    "        medians.append(\"NA\")\n",
    "    else:\n",
    "        medians.append(df_chartevents[i].median())\n",
    "medians"
   ]
  },
  {
   "cell_type": "code",
   "execution_count": 18,
   "metadata": {},
   "outputs": [],
   "source": [
    "# Create extra columns with table information\n",
    "file_name = ['chartevents.csv']*len(df_chartevents.columns)\n",
    "column_name = df_chartevents.columns\n",
    "row_count = [df_chartevents.shape[0]]*len(df_chartevents.columns)\n",
    "logical_datatypes = dtype_vals"
   ]
  },
  {
   "cell_type": "code",
   "execution_count": null,
   "metadata": {},
   "outputs": [],
   "source": [
    "# Create a DataFrame with metadata columns\n",
    "df_chartevents_final = pd.DataFrame({'File Name':file_name, 'Column Name':column_name, 'Row Count':row_count, \n",
    "                        'Unique Values':unique_vals, 'Null Counts':null_counts, 'Null Percentage':percent_nulls,\n",
    "                        'Logical Data Type':logical_datatypes, 'Mode':modes, 'Median':medians, 'Mode':modes, 'Median':medians})\n",
    "\n",
    "df_chartevents_final"
   ]
  },
  {
   "cell_type": "code",
   "execution_count": null,
   "metadata": {},
   "outputs": [],
   "source": [
    "# Get descriptive statistics \n",
    "df_chartevents_describe = df_chartevents.describe().transpose()\n",
    "df_chartevents_describe"
   ]
  },
  {
   "cell_type": "code",
   "execution_count": 22,
   "metadata": {},
   "outputs": [],
   "source": [
    "# Reset Index of Description table\n",
    "df_chartevents_describe = df_chartevents_describe.reset_index(drop=False)"
   ]
  },
  {
   "cell_type": "code",
   "execution_count": null,
   "metadata": {},
   "outputs": [],
   "source": [
    "# Add 'Column Name' to Description table\n",
    "df_chartevents_describe.columns= ['Column Name'] + list(df_chartevents_describe.columns[1:])\n",
    "df_chartevents_describe"
   ]
  },
  {
   "cell_type": "code",
   "execution_count": 25,
   "metadata": {},
   "outputs": [],
   "source": [
    "# Calculate Range, Interquartile Range and Variance \n",
    "df_chartevents_describe[\"Range\"] = df_chartevents_describe['max'] - df_chartevents_describe['min']\n",
    "df_chartevents_describe[\"Interquartile_Range\"] = df_chartevents_describe['75%'] - df_chartevents_describe['25%']\n",
    "df_chartevents_describe[\"Variance\"] = (df_chartevents_describe['std'])**2"
   ]
  },
  {
   "cell_type": "code",
   "execution_count": null,
   "metadata": {},
   "outputs": [],
   "source": [
    "# Merge\n",
    "df_chartevents_final = df_chartevents_final.merge(df_chartevents_describe, how = 'left', on = 'Column Name')\n",
    "df_chartevents_final"
   ]
  },
  {
   "cell_type": "code",
   "execution_count": 27,
   "metadata": {},
   "outputs": [],
   "source": [
    "# Save\n",
    "df_chartevents_final.to_csv(\"chartevents_descriptive.csv\")"
   ]
  },
  {
   "cell_type": "markdown",
   "metadata": {},
   "source": [
    "## Table: **admissions**"
   ]
  },
  {
   "cell_type": "code",
   "execution_count": 4,
   "metadata": {},
   "outputs": [],
   "source": [
    "# Load csv\n",
    "df_admissions = pd.read_csv(\"admissions.csv\")"
   ]
  },
  {
   "cell_type": "code",
   "execution_count": 42,
   "metadata": {},
   "outputs": [],
   "source": [
    "# Create Copy \n",
    "df_admissions2 = df_admissions.copy()"
   ]
  },
  {
   "cell_type": "code",
   "execution_count": 5,
   "metadata": {},
   "outputs": [],
   "source": [
    "# Convert timestamps to date time \n",
    "df_admissions['admittime'] = pd.to_datetime(df_admissions['admittime'])\n",
    "df_admissions['dischtime']= pd.to_datetime(df_admissions['dischtime'])\n",
    "df_admissions['deathtime'] = pd.to_datetime(df_admissions['deathtime'])\n",
    "df_admissions['edregtime']= pd.to_datetime(df_admissions['edregtime'])\n",
    "df_admissions['edouttime']= pd.to_datetime(df_admissions['edouttime'])"
   ]
  },
  {
   "cell_type": "code",
   "execution_count": null,
   "metadata": {},
   "outputs": [],
   "source": [
    "# Get number of unique values for each column and whether the column is unique \n",
    "unique_vals = pd.DataFrame(df_admissions.nunique())[0].tolist()\n",
    "unique_vals_count = [val == len(df_admissions) for val in unique_vals]\n",
    "print(unique_vals)\n",
    "print(unique_vals_count)"
   ]
  },
  {
   "cell_type": "code",
   "execution_count": null,
   "metadata": {},
   "outputs": [],
   "source": [
    "# Get count of null values in each column and calculate the percentage of nulls\n",
    "df_admissions_null = pd.DataFrame(df_admissions.isna().sum().reset_index()).rename({'index':'name', 0:'null_count'}, axis=1)\n",
    "\n",
    "# Get percent null by dividing null_count column by length of df * 100 and formatting into percentage\n",
    "df_admissions_null['percent_null'] = df_admissions_null['null_count'].apply(lambda x: f\"{round(x/df_admissions.shape[0]*100, 1)}%\")\n",
    "null_counts = df_admissions_null.null_count.tolist()\n",
    "percent_nulls = df_admissions_null.percent_null.tolist()\n",
    "print(null_counts[0:5])\n",
    "print(percent_nulls[0:5])"
   ]
  },
  {
   "cell_type": "code",
   "execution_count": null,
   "metadata": {},
   "outputs": [],
   "source": [
    "# Get data types for each column\n",
    "dtype_vals = pd.DataFrame(df_admissions.dtypes)[0].tolist()\n",
    "dtype_vals"
   ]
  },
  {
   "cell_type": "code",
   "execution_count": null,
   "metadata": {},
   "outputs": [],
   "source": [
    "# Calculate mode\n",
    "modes = df_admissions.mode().iloc[0,]\n",
    "modes"
   ]
  },
  {
   "cell_type": "code",
   "execution_count": null,
   "metadata": {},
   "outputs": [],
   "source": [
    "# Calculate median\n",
    "medians = []\n",
    "for i in df_admissions.columns:\n",
    "    if (df_admissions[i]).dtype == \"O\":\n",
    "        medians.append(\"NA\")\n",
    "    else:\n",
    "        medians.append(df_admissions[i].median())\n",
    "medians"
   ]
  },
  {
   "cell_type": "code",
   "execution_count": 9,
   "metadata": {},
   "outputs": [],
   "source": [
    "# Create extra columns with table information\n",
    "file_name = ['admissions.csv']*len(df_admissions.columns)\n",
    "column_name = df_admissions.columns\n",
    "row_count = [df_admissions.shape[0]]*len(df_admissions.columns)\n",
    "logical_datatypes = dtype_vals"
   ]
  },
  {
   "cell_type": "code",
   "execution_count": null,
   "metadata": {},
   "outputs": [],
   "source": [
    "# Create a DataFrame with metadata columns\n",
    "df_admissions_final = pd.DataFrame({'File Name':file_name, 'Column Name':column_name, 'Row Count':row_count, \n",
    "                        'Unique Values':unique_vals, 'Null Counts':null_counts, 'Null Percentage':percent_nulls,\n",
    "                        'Logical Data Type':logical_datatypes, 'Mode':modes, 'Median':medians})\n",
    "\n",
    "df_admissions_final"
   ]
  },
  {
   "cell_type": "code",
   "execution_count": null,
   "metadata": {},
   "outputs": [],
   "source": [
    "# Get descriptive statistics \n",
    "df_admissions_describe = df_admissions.describe().transpose()\n",
    "df_admissions_describe"
   ]
  },
  {
   "cell_type": "code",
   "execution_count": 98,
   "metadata": {},
   "outputs": [],
   "source": [
    "# Reset Index of Description table\n",
    "df_admissions_describe = df_admissions_describe.reset_index(drop=False)"
   ]
  },
  {
   "cell_type": "code",
   "execution_count": null,
   "metadata": {},
   "outputs": [],
   "source": [
    "# Add 'Column Name' to Description Table\n",
    "df_admissions_describe.columns= ['Column Name'] + list(df_admissions_describe.columns[1:])\n",
    "df_admissions_describe"
   ]
  },
  {
   "cell_type": "code",
   "execution_count": 100,
   "metadata": {},
   "outputs": [],
   "source": [
    "# Calculate Range, Interquartile Range and Variance \n",
    "df_admissions_describe[\"Range\"] = df_admissions_describe['max'] - df_admissions_describe['min']\n",
    "df_admissions_describe[\"Interquartile_Range\"] = df_admissions_describe['75%'] - df_admissions_describe['25%']\n",
    "df_admissions_describe[\"Variance\"] = (df_admissions_describe['std'])**2"
   ]
  },
  {
   "cell_type": "code",
   "execution_count": null,
   "metadata": {},
   "outputs": [],
   "source": [
    "# Merge\n",
    "df_admissions_final = df_admissions_final.merge(df_admissions_describe, how = 'left', on = 'Column Name')\n",
    "df_admissions_final"
   ]
  },
  {
   "cell_type": "code",
   "execution_count": 105,
   "metadata": {},
   "outputs": [],
   "source": [
    "# Save\n",
    "df_admissions_final.to_csv(\"admissions_descriptive.csv\")"
   ]
  },
  {
   "cell_type": "markdown",
   "metadata": {},
   "source": [
    "### Quality Check: admittime, dischtime "
   ]
  },
  {
   "cell_type": "code",
   "execution_count": null,
   "metadata": {},
   "outputs": [],
   "source": [
    "# Initial check to see if there are dischtime before admittime \n",
    "is_valid = True\n",
    "for x in range(len(df_admissions)):\n",
    "    if df_admissions['admittime'][x] > df_admissions['dischtime'][x]:\n",
    "        is_valid = False\n",
    "        break\n",
    "print(is_valid)"
   ]
  },
  {
   "cell_type": "code",
   "execution_count": null,
   "metadata": {},
   "outputs": [],
   "source": [
    "# Add column to df for whether dischtime is before admittime \n",
    "df_admissions['admittime_error'] = 0\n",
    "for x in range(len(df_admissions)):\n",
    "    if df_admissions['admittime'][x] > df_admissions['dischtime'][x]:\n",
    "        df_admissions['admittime_error'][x] = False\n",
    "    else: \n",
    "        df_admissions['admittime_error'][x] = True"
   ]
  },
  {
   "cell_type": "code",
   "execution_count": null,
   "metadata": {},
   "outputs": [],
   "source": [
    "# Display columns where this is the case # \n",
    "filtered_df = df_admissions[df_admissions['admittime_error'] == False]\n",
    "with pd.option_context('display.max_rows', None):\n",
    "    print(filtered_df['hadm_id'])"
   ]
  },
  {
   "cell_type": "markdown",
   "metadata": {},
   "source": [
    "## Table: **diagnoses_icd**"
   ]
  },
  {
   "cell_type": "code",
   "execution_count": 3,
   "metadata": {},
   "outputs": [],
   "source": [
    "# Load csv\n",
    "df_diagnoses_icd = pd.read_csv(\"diagnoses_icd.csv\")"
   ]
  },
  {
   "cell_type": "code",
   "execution_count": 4,
   "metadata": {},
   "outputs": [],
   "source": [
    "# Create Copy \n",
    "df_diagnoses_icd2 = df_diagnoses_icd.copy()"
   ]
  },
  {
   "cell_type": "code",
   "execution_count": null,
   "metadata": {},
   "outputs": [],
   "source": [
    "# Get number of unique values for each column and whether the column is unique \n",
    "unique_vals = pd.DataFrame(df_diagnoses_icd.nunique())[0].tolist()\n",
    "unique_vals_count = [val == len(df_diagnoses_icd) for val in unique_vals]\n",
    "print(unique_vals)\n",
    "print(unique_vals_count)"
   ]
  },
  {
   "cell_type": "code",
   "execution_count": null,
   "metadata": {},
   "outputs": [],
   "source": [
    "# Get count of null values in each column and calculate the percentage of nulls\n",
    "df_diagnoses_icd_null = pd.DataFrame(df_diagnoses_icd.isna().sum().reset_index()).rename({'index':'name', 0:'null_count'}, axis=1)\n",
    "\n",
    "# Get percent null by dividing null_count column by length of df * 100 and formatting into percentage\n",
    "df_diagnoses_icd_null['percent_null'] = df_diagnoses_icd_null['null_count'].apply(lambda x: f\"{round(x/df_diagnoses_icd.shape[0]*100, 1)}%\")\n",
    "null_counts = df_diagnoses_icd_null.null_count.tolist()\n",
    "percent_nulls = df_diagnoses_icd_null.percent_null.tolist()\n",
    "print(null_counts[0:5])\n",
    "print(percent_nulls[0:5])"
   ]
  },
  {
   "cell_type": "code",
   "execution_count": null,
   "metadata": {},
   "outputs": [],
   "source": [
    "# Get data types for each column\n",
    "dtype_vals = pd.DataFrame(df_diagnoses_icd.dtypes)[0].tolist()\n",
    "dtype_vals"
   ]
  },
  {
   "cell_type": "code",
   "execution_count": null,
   "metadata": {},
   "outputs": [],
   "source": [
    "# Calculate mode\n",
    "modes = df_diagnoses_icd.mode().iloc[0,]\n",
    "modes"
   ]
  },
  {
   "cell_type": "code",
   "execution_count": null,
   "metadata": {},
   "outputs": [],
   "source": [
    "# Calculate median\n",
    "medians = []\n",
    "for i in df_diagnoses_icd.columns:\n",
    "    if (df_diagnoses_icd[i]).dtype == \"O\":\n",
    "        medians.append(\"NA\")\n",
    "    else:\n",
    "        medians.append(df_diagnoses_icd[i].median())\n",
    "medians"
   ]
  },
  {
   "cell_type": "code",
   "execution_count": 10,
   "metadata": {},
   "outputs": [],
   "source": [
    "# Create extra columns with table information\n",
    "file_name = ['diagnoses_icd.csv']*len(df_diagnoses_icd.columns)\n",
    "column_name = df_diagnoses_icd.columns\n",
    "row_count = [df_diagnoses_icd.shape[0]]*len(df_diagnoses_icd.columns)\n",
    "logical_datatypes = dtype_vals"
   ]
  },
  {
   "cell_type": "code",
   "execution_count": null,
   "metadata": {},
   "outputs": [],
   "source": [
    "# Create a DataFrame with metadata columns\n",
    "df_diagnoses_icd_final = pd.DataFrame({'File Name':file_name, 'Column Name':column_name, 'Row Count':row_count, \n",
    "                        'Unique Values':unique_vals, 'Null Counts':null_counts, 'Null Percentage':percent_nulls,\n",
    "                        'Logical Data Type':logical_datatypes, 'Mode':modes, 'Median':medians})\n",
    "\n",
    "df_diagnoses_icd_final"
   ]
  },
  {
   "cell_type": "code",
   "execution_count": null,
   "metadata": {},
   "outputs": [],
   "source": [
    "# Get descriptive statistics \n",
    "df_diagnoses_icd_describe = df_diagnoses_icd.describe().transpose()\n",
    "df_diagnoses_icd_describe"
   ]
  },
  {
   "cell_type": "code",
   "execution_count": 13,
   "metadata": {},
   "outputs": [],
   "source": [
    "# Reset Index #\n",
    "df_diagnoses_icd_describe = df_diagnoses_icd_describe.reset_index(drop=False)"
   ]
  },
  {
   "cell_type": "code",
   "execution_count": null,
   "metadata": {},
   "outputs": [],
   "source": [
    "# Change to \"Column Name\"\n",
    "df_diagnoses_icd_describe.columns= ['Column Name'] + list(df_diagnoses_icd_describe.columns[1:])\n",
    "df_diagnoses_icd_describe"
   ]
  },
  {
   "cell_type": "code",
   "execution_count": 15,
   "metadata": {},
   "outputs": [],
   "source": [
    "# Calculate Range, Interquartile Range and Variance \n",
    "df_diagnoses_icd_describe[\"Range\"] = df_diagnoses_icd_describe['max'] - df_diagnoses_icd_describe['min']\n",
    "df_diagnoses_icd_describe[\"Interquartile_Range\"] = df_diagnoses_icd_describe['75%'] - df_diagnoses_icd_describe['25%']\n",
    "df_diagnoses_icd_describe[\"Variance\"] = (df_diagnoses_icd_describe['std'])**2"
   ]
  },
  {
   "cell_type": "code",
   "execution_count": null,
   "metadata": {},
   "outputs": [],
   "source": [
    "# Merge\n",
    "df_diagnoses_icd_final = df_diagnoses_icd_final.merge(df_diagnoses_icd_describe, how = 'left', on = 'Column Name')\n",
    "df_diagnoses_icd_final"
   ]
  },
  {
   "cell_type": "code",
   "execution_count": 17,
   "metadata": {},
   "outputs": [],
   "source": [
    "df_diagnoses_icd_final.to_csv(\"diagnoses_icd_descriptive.csv\")"
   ]
  },
  {
   "cell_type": "markdown",
   "metadata": {},
   "source": [
    "## Table: **d_items**"
   ]
  },
  {
   "cell_type": "code",
   "execution_count": 124,
   "metadata": {},
   "outputs": [],
   "source": [
    "# Load csv\n",
    "df_d_items = pd.read_csv(\"d_items.csv\")"
   ]
  },
  {
   "cell_type": "code",
   "execution_count": 125,
   "metadata": {},
   "outputs": [],
   "source": [
    "# Create Copy \n",
    "df_d_items2 = df_d_items.copy()"
   ]
  },
  {
   "cell_type": "code",
   "execution_count": null,
   "metadata": {},
   "outputs": [],
   "source": [
    "# Get number of unique values for each column and whether the column is unique \n",
    "unique_vals = pd.DataFrame(df_d_items.nunique())[0].tolist()\n",
    "unique_vals_count = [val == len(df_d_items) for val in unique_vals]\n",
    "print(unique_vals)\n",
    "print(unique_vals_count)"
   ]
  },
  {
   "cell_type": "code",
   "execution_count": null,
   "metadata": {},
   "outputs": [],
   "source": [
    "# Get count of null values in each column and calculate the percentage of nulls\n",
    "df_d_items_null = pd.DataFrame(df_d_items.isna().sum().reset_index()).rename({'index':'name', 0:'null_count'}, axis=1)\n",
    "\n",
    "# Get percent null by dividing null_count column by length of df * 100 and formatting into percentage\n",
    "df_d_items_null['percent_null'] = df_d_items_null['null_count'].apply(lambda x: f\"{round(x/df_d_items.shape[0]*100, 1)}%\")\n",
    "null_counts = df_d_items_null.null_count.tolist()\n",
    "percent_nulls = df_d_items_null.percent_null.tolist()"
   ]
  },
  {
   "cell_type": "code",
   "execution_count": null,
   "metadata": {},
   "outputs": [],
   "source": [
    "# Get data types for each column\n",
    "dtype_vals = pd.DataFrame(df_d_items.dtypes)[0].tolist()\n",
    "dtype_vals"
   ]
  },
  {
   "cell_type": "code",
   "execution_count": null,
   "metadata": {},
   "outputs": [],
   "source": [
    "# Calculate mode\n",
    "modes = df_d_items.mode().iloc[0,]\n",
    "modes"
   ]
  },
  {
   "cell_type": "code",
   "execution_count": null,
   "metadata": {},
   "outputs": [],
   "source": [
    "# Calculate median\n",
    "medians = []\n",
    "for i in df_d_items.columns:\n",
    "    if (df_d_items[i]).dtype == \"O\":\n",
    "        medians.append(\"NA\")\n",
    "    else:\n",
    "        medians.append(df_d_items[i].median())\n",
    "medians"
   ]
  },
  {
   "cell_type": "code",
   "execution_count": 131,
   "metadata": {},
   "outputs": [],
   "source": [
    "# Create extra columns with table information\n",
    "file_name = ['d_items.csv']*len(df_d_items.columns)\n",
    "column_name = df_d_items.columns\n",
    "row_count = [df_d_items.shape[0]]*len(df_d_items.columns)\n",
    "logical_datatypes = dtype_vals"
   ]
  },
  {
   "cell_type": "code",
   "execution_count": null,
   "metadata": {},
   "outputs": [],
   "source": [
    "# Create a DataFrame with metadata columns\n",
    "df_d_items_final = pd.DataFrame({'File Name':file_name, 'Column Name':column_name, 'Row Count':row_count, \n",
    "                        'Unique Values':unique_vals, 'Null Counts':null_counts, 'Null Percentage':percent_nulls,\n",
    "                        'Logical Data Type':logical_datatypes, 'Mode':modes, 'Median':medians})\n",
    "\n",
    "df_d_items_final"
   ]
  },
  {
   "cell_type": "code",
   "execution_count": null,
   "metadata": {},
   "outputs": [],
   "source": [
    "# Get descriptive statistics \n",
    "df_d_items_describe = df_d_items.describe().transpose()\n",
    "df_d_items_describe"
   ]
  },
  {
   "cell_type": "code",
   "execution_count": 134,
   "metadata": {},
   "outputs": [],
   "source": [
    "# Reset Index of Description table\n",
    "df_d_items_describe = df_d_items_describe.reset_index(drop=False)"
   ]
  },
  {
   "cell_type": "code",
   "execution_count": null,
   "metadata": {},
   "outputs": [],
   "source": [
    "# Add 'Column Name' to description table \n",
    "df_d_items_describe.columns= ['Column Name'] + list(df_d_items_describe.columns[1:])\n",
    "df_d_items_describe"
   ]
  },
  {
   "cell_type": "code",
   "execution_count": 136,
   "metadata": {},
   "outputs": [],
   "source": [
    "# Calculate Range, Interquartile Range and Variance \n",
    "df_d_items_describe[\"Range\"] = df_d_items_describe['max'] - df_d_items_describe['min']\n",
    "df_d_items_describe[\"Interquartile_Range\"] = df_d_items_describe['75%'] - df_d_items_describe['25%']\n",
    "df_d_items_describe[\"Variance\"] = (df_d_items_describe['std'])**2"
   ]
  },
  {
   "cell_type": "code",
   "execution_count": null,
   "metadata": {},
   "outputs": [],
   "source": [
    "# Merge\n",
    "df_d_items_final = df_d_items_final.merge(df_d_items_describe, how = 'left', on = 'Column Name')\n",
    "df_d_items_final"
   ]
  },
  {
   "cell_type": "code",
   "execution_count": 138,
   "metadata": {},
   "outputs": [],
   "source": [
    "df_d_items_final.to_csv(\"d_items_descriptive.csv\")"
   ]
  },
  {
   "cell_type": "markdown",
   "metadata": {},
   "source": [
    "## Table: **icustays**"
   ]
  },
  {
   "cell_type": "code",
   "execution_count": 4,
   "metadata": {},
   "outputs": [],
   "source": [
    "# Load csv\n",
    "df_icustays = pd.read_csv(\"icustays.csv\")"
   ]
  },
  {
   "cell_type": "code",
   "execution_count": 5,
   "metadata": {},
   "outputs": [],
   "source": [
    "# Create Copy \n",
    "df_icustays2 = df_icustays.copy()"
   ]
  },
  {
   "cell_type": "code",
   "execution_count": 6,
   "metadata": {},
   "outputs": [],
   "source": [
    "# Convert timestamps to date time \n",
    "df_icustays['intime'] = pd.to_datetime(df_icustays['intime'])\n",
    "df_icustays['outtime']= pd.to_datetime(df_icustays['outtime'])\n"
   ]
  },
  {
   "cell_type": "code",
   "execution_count": null,
   "metadata": {},
   "outputs": [],
   "source": [
    "# Get number of unique values for each column and whether the column is unique \n",
    "unique_vals = pd.DataFrame(df_icustays.nunique())[0].tolist()\n",
    "unique_vals_count = [val == len(df_icustays) for val in unique_vals]\n",
    "print(unique_vals)\n",
    "print(unique_vals_count)"
   ]
  },
  {
   "cell_type": "code",
   "execution_count": null,
   "metadata": {},
   "outputs": [],
   "source": [
    "# Get count of null values in each column and calculate the percentage of nulls\n",
    "df_icustays_null = pd.DataFrame(df_icustays.isna().sum().reset_index()).rename({'index':'name', 0:'null_count'}, axis=1)\n",
    "\n",
    "# Get percent null by dividing null_count column by length of df * 100 and formatting into percentage\n",
    "df_icustays_null['percent_null'] = df_icustays_null['null_count'].apply(lambda x: f\"{round(x/df_icustays.shape[0]*100, 1)}%\")\n",
    "null_counts = df_icustays_null.null_count.tolist()\n",
    "percent_nulls = df_icustays_null.percent_null.tolist()\n",
    "print(null_counts[0:5])\n",
    "print(percent_nulls[0:5])"
   ]
  },
  {
   "cell_type": "code",
   "execution_count": null,
   "metadata": {},
   "outputs": [],
   "source": [
    "# Get data types for each column\n",
    "dtype_vals = pd.DataFrame(df_icustays.dtypes)[0].tolist()\n",
    "dtype_vals"
   ]
  },
  {
   "cell_type": "code",
   "execution_count": null,
   "metadata": {},
   "outputs": [],
   "source": [
    "# Calculate mode\n",
    "modes = df_icustays.mode().iloc[0,]\n",
    "modes"
   ]
  },
  {
   "cell_type": "code",
   "execution_count": null,
   "metadata": {},
   "outputs": [],
   "source": [
    "# Calculate median\n",
    "medians = []\n",
    "for i in df_icustays.columns:\n",
    "    if (df_icustays[i]).dtype == \"O\":\n",
    "        medians.append(\"NA\")\n",
    "    else:\n",
    "        medians.append(df_icustays[i].median())\n",
    "medians"
   ]
  },
  {
   "cell_type": "code",
   "execution_count": 12,
   "metadata": {},
   "outputs": [],
   "source": [
    "# Create extra columns with table information\n",
    "file_name = ['icustays.csv']*len(df_icustays.columns)\n",
    "column_name = df_icustays.columns\n",
    "row_count = [df_icustays.shape[0]]*len(df_icustays.columns)\n",
    "logical_datatypes = dtype_vals"
   ]
  },
  {
   "cell_type": "code",
   "execution_count": null,
   "metadata": {},
   "outputs": [],
   "source": [
    "# Create a DataFrame with metadata columns\n",
    "df_icustays_final = pd.DataFrame({'File Name':file_name, 'Column Name':column_name, 'Row Count':row_count, \n",
    "                        'Unique Values':unique_vals, 'Null Counts':null_counts, 'Null Percentage':percent_nulls,\n",
    "                        'Logical Data Type':logical_datatypes, 'Mode':modes, 'Median':medians})\n",
    "\n",
    "df_icustays_final"
   ]
  },
  {
   "cell_type": "code",
   "execution_count": null,
   "metadata": {},
   "outputs": [],
   "source": [
    "# Get descriptive statistics \n",
    "df_icustays_describe = df_icustays.describe().transpose()\n",
    "df_icustays_describe"
   ]
  },
  {
   "cell_type": "code",
   "execution_count": 15,
   "metadata": {},
   "outputs": [],
   "source": [
    "# Reset Index of Description table\n",
    "df_icustays_describe = df_icustays_describe.reset_index(drop=False)"
   ]
  },
  {
   "cell_type": "code",
   "execution_count": null,
   "metadata": {},
   "outputs": [],
   "source": [
    "# Add 'Column Name' to Description table\n",
    "df_icustays_describe.columns= ['Column Name'] + list(df_icustays_describe.columns[1:])\n",
    "df_icustays_describe"
   ]
  },
  {
   "cell_type": "code",
   "execution_count": 17,
   "metadata": {},
   "outputs": [],
   "source": [
    "# Calculate Range, Interquartile Range and Variance \n",
    "df_icustays_describe[\"Range\"] = df_icustays_describe['max'] - df_icustays_describe['min']\n",
    "df_icustays_describe[\"Interquartile_Range\"] = df_icustays_describe['75%'] - df_icustays_describe['25%']\n",
    "df_icustays_describe[\"Variance\"] = (df_icustays_describe['std'])**2"
   ]
  },
  {
   "cell_type": "code",
   "execution_count": null,
   "metadata": {},
   "outputs": [],
   "source": [
    "# Merge\n",
    "df_icustays_final = df_icustays_final.merge(df_icustays_describe, how = 'left', on = 'Column Name')\n",
    "df_icustays_final"
   ]
  },
  {
   "cell_type": "code",
   "execution_count": 19,
   "metadata": {},
   "outputs": [],
   "source": [
    "df_icustays_final.to_csv(\"icustays_descriptive.csv\")"
   ]
  },
  {
   "cell_type": "markdown",
   "metadata": {},
   "source": [
    "## Table: **phecode_icd9** - Secondary Dataset"
   ]
  },
  {
   "cell_type": "code",
   "execution_count": 58,
   "metadata": {},
   "outputs": [],
   "source": [
    "# Load csv\n",
    "df_phecode_icd9 = pd.read_csv(\"phecode_icd9.csv\")"
   ]
  },
  {
   "cell_type": "code",
   "execution_count": 59,
   "metadata": {},
   "outputs": [],
   "source": [
    "# Create Copy \n",
    "df_phecode_icd9 = df_phecode_icd9.copy()"
   ]
  },
  {
   "cell_type": "code",
   "execution_count": null,
   "metadata": {},
   "outputs": [],
   "source": [
    "# Get number of unique values for each column and whether the column is unique \n",
    "unique_vals = pd.DataFrame(df_phecode_icd9.nunique())[0].tolist()\n",
    "unique_vals_count = [val == len(df_phecode_icd9) for val in unique_vals]\n",
    "print(unique_vals)\n",
    "print(unique_vals_count)"
   ]
  },
  {
   "cell_type": "code",
   "execution_count": null,
   "metadata": {},
   "outputs": [],
   "source": [
    "# Get count of null values in each column and calculate the percentage of nulls\n",
    "df_phecode_icd9_null = pd.DataFrame(df_phecode_icd9.isna().sum().reset_index()).rename({'index':'name', 0:'null_count'}, axis=1)\n",
    "\n",
    "# Get percent null by dividing null_count column by length of df * 100 and formatting into percentage\n",
    "df_phecode_icd9_null['percent_null'] = df_phecode_icd9_null['null_count'].apply(lambda x: f\"{round(x/df_phecode_icd9.shape[0]*100, 1)}%\")\n",
    "null_counts = df_phecode_icd9_null.null_count.tolist()\n",
    "percent_nulls = df_phecode_icd9_null.percent_null.tolist()\n",
    "print(null_counts[0:5])\n",
    "print(percent_nulls[0:5])"
   ]
  },
  {
   "cell_type": "code",
   "execution_count": null,
   "metadata": {},
   "outputs": [],
   "source": [
    "# Get data types for each column\n",
    "dtype_vals = pd.DataFrame(df_phecode_icd9.dtypes)[0].tolist()\n",
    "dtype_vals"
   ]
  },
  {
   "cell_type": "code",
   "execution_count": null,
   "metadata": {},
   "outputs": [],
   "source": [
    "# Calculate mode\n",
    "modes = df_phecode_icd9.mode().iloc[0,]\n",
    "modes"
   ]
  },
  {
   "cell_type": "code",
   "execution_count": null,
   "metadata": {},
   "outputs": [],
   "source": [
    "# Calculate median\n",
    "medians = []\n",
    "for i in df_phecode_icd9.columns:\n",
    "    if (df_phecode_icd9[i]).dtype == \"O\":\n",
    "        medians.append(\"NA\")\n",
    "    else:\n",
    "        medians.append(df_phecode_icd9[i].median())\n",
    "medians"
   ]
  },
  {
   "cell_type": "code",
   "execution_count": 65,
   "metadata": {},
   "outputs": [],
   "source": [
    "# Create extra columns with table information\n",
    "file_name = ['phecode_icd9.csv']*len(df_phecode_icd9.columns)\n",
    "column_name = df_phecode_icd9.columns\n",
    "row_count = [df_phecode_icd9.shape[0]]*len(df_phecode_icd9.columns)\n",
    "logical_datatypes = dtype_vals"
   ]
  },
  {
   "cell_type": "code",
   "execution_count": null,
   "metadata": {},
   "outputs": [],
   "source": [
    "# Create a DataFrame with metadata columns\n",
    "df_phecode_icd9_final = pd.DataFrame({'File Name':file_name, 'Column Name':column_name, 'Row Count':row_count, \n",
    "                        'Unique Values':unique_vals, 'Null Counts':null_counts, 'Null Percentage':percent_nulls,\n",
    "                        'Logical Data Type':logical_datatypes, 'Mode':modes, 'Median':medians})\n",
    "\n",
    "df_phecode_icd9_final"
   ]
  },
  {
   "cell_type": "code",
   "execution_count": null,
   "metadata": {},
   "outputs": [],
   "source": [
    "# Get descriptive statistics \n",
    "df_phecode_icd9_describe = df_phecode_icd9.describe().transpose()\n",
    "df_phecode_icd9_describe"
   ]
  },
  {
   "cell_type": "code",
   "execution_count": 68,
   "metadata": {},
   "outputs": [],
   "source": [
    "# Reset Index of Description table\n",
    "df_phecode_icd9_describe = df_phecode_icd9_describe.reset_index(drop=False)"
   ]
  },
  {
   "cell_type": "code",
   "execution_count": null,
   "metadata": {},
   "outputs": [],
   "source": [
    "# Add 'Column Name' to Description table\n",
    "df_phecode_icd9_describe.columns= ['Column Name'] + list(df_phecode_icd9_describe.columns[1:])\n",
    "df_phecode_icd9_describe"
   ]
  },
  {
   "cell_type": "code",
   "execution_count": 70,
   "metadata": {},
   "outputs": [],
   "source": [
    "# Calculate Range, Interquartile Range and Variance \n",
    "df_phecode_icd9_describe[\"Range\"] = df_phecode_icd9_describe['max'] - df_phecode_icd9_describe['min']\n",
    "df_phecode_icd9_describe[\"Interquartile_Range\"] = df_phecode_icd9_describe['75%'] - df_phecode_icd9_describe['25%']\n",
    "df_phecode_icd9_describe[\"Variance\"] = (df_phecode_icd9_describe['std'])**2"
   ]
  },
  {
   "cell_type": "code",
   "execution_count": null,
   "metadata": {},
   "outputs": [],
   "source": [
    "# Merge\n",
    "df_phecode_icd9_final = df_phecode_icd9_final.merge(df_phecode_icd9_describe, how = 'left', on = 'Column Name')\n",
    "df_phecode_icd9_final"
   ]
  },
  {
   "cell_type": "code",
   "execution_count": 72,
   "metadata": {},
   "outputs": [],
   "source": [
    "df_phecode_icd9_final.to_csv(\"phecode_icd9_descriptive.csv\")"
   ]
  },
  {
   "cell_type": "markdown",
   "metadata": {},
   "source": [
    "## Table: **phecodes_icd10** - Secondary Dataset"
   ]
  },
  {
   "cell_type": "code",
   "execution_count": 43,
   "metadata": {},
   "outputs": [],
   "source": [
    "# Load csv\n",
    "df_phecode_icd10 = pd.read_csv(\"phecode_icd10.csv\")"
   ]
  },
  {
   "cell_type": "code",
   "execution_count": null,
   "metadata": {},
   "outputs": [],
   "source": [
    "# Get number of unique values for each column and whether the column is unique \n",
    "unique_vals = pd.DataFrame(df_phecode_icd10.nunique())[0].tolist()\n",
    "unique_vals_count = [val == len(df_phecode_icd10) for val in unique_vals]\n",
    "print(unique_vals)\n",
    "print(unique_vals_count)"
   ]
  },
  {
   "cell_type": "code",
   "execution_count": null,
   "metadata": {},
   "outputs": [],
   "source": [
    "# Get count of null values in each column and calculate the percentage of nulls\n",
    "df_phecode_icd10_null = pd.DataFrame(df_phecode_icd10.isna().sum().reset_index()).rename({'index':'name', 0:'null_count'}, axis=1)\n",
    "\n",
    "# Get percent null by dividing null_count column by length of df * 100 and formatting into percentage\n",
    "df_phecode_icd10_null['percent_null'] = df_phecode_icd10_null['null_count'].apply(lambda x: f\"{round(x/df_phecode_icd10.shape[0]*100, 1)}%\")\n",
    "null_counts = df_phecode_icd10_null.null_count.tolist()\n",
    "percent_nulls = df_phecode_icd10_null.percent_null.tolist()\n",
    "print(null_counts[0:5])\n",
    "print(percent_nulls[0:5])"
   ]
  },
  {
   "cell_type": "code",
   "execution_count": null,
   "metadata": {},
   "outputs": [],
   "source": [
    "# Get data types for each column\n",
    "dtype_vals = pd.DataFrame(df_phecode_icd10.dtypes)[0].tolist()\n",
    "dtype_vals"
   ]
  },
  {
   "cell_type": "code",
   "execution_count": null,
   "metadata": {},
   "outputs": [],
   "source": [
    "# Calculate mode\n",
    "modes = df_phecode_icd10.mode().iloc[0,]\n",
    "modes"
   ]
  },
  {
   "cell_type": "code",
   "execution_count": null,
   "metadata": {},
   "outputs": [],
   "source": [
    "# Calculate median\n",
    "medians = []\n",
    "for i in df_phecode_icd10.columns:\n",
    "    if (df_phecode_icd10[i]).dtype == \"O\":\n",
    "        medians.append(\"NA\")\n",
    "    else:\n",
    "        medians.append(df_phecode_icd10[i].median())\n",
    "medians"
   ]
  },
  {
   "cell_type": "code",
   "execution_count": 49,
   "metadata": {},
   "outputs": [],
   "source": [
    "# Create extra columns with table information\n",
    "file_name = ['phecodes_icd10.csv']*len(df_phecode_icd10.columns)\n",
    "column_name = df_phecode_icd10.columns\n",
    "row_count = [df_phecode_icd10.shape[0]]*len(df_phecode_icd10.columns)\n",
    "logical_datatypes = dtype_vals"
   ]
  },
  {
   "cell_type": "code",
   "execution_count": null,
   "metadata": {},
   "outputs": [],
   "source": [
    "# Create a DataFrame with metadata columns\n",
    "df_phecode_icd10_final = pd.DataFrame({'File Name':file_name, 'Column Name':column_name, 'Row Count':row_count, \n",
    "                        'Unique Values':unique_vals, 'Null Counts':null_counts, 'Null Percentage':percent_nulls,\n",
    "                        'Logical Data Type':logical_datatypes, 'Mode':modes, 'Median':medians})\n",
    "\n",
    "df_phecode_icd10_final"
   ]
  },
  {
   "cell_type": "code",
   "execution_count": null,
   "metadata": {},
   "outputs": [],
   "source": [
    "# Get descriptive statistics \n",
    "df_phecode_icd10_describe = df_phecode_icd10.describe().transpose()\n",
    "df_phecode_icd10_describe"
   ]
  },
  {
   "cell_type": "code",
   "execution_count": 52,
   "metadata": {},
   "outputs": [],
   "source": [
    "# Reset Index of Description table\n",
    "df_phecode_icd10_describe = df_phecode_icd10_describe.reset_index(drop=False)"
   ]
  },
  {
   "cell_type": "code",
   "execution_count": null,
   "metadata": {},
   "outputs": [],
   "source": [
    "# Add 'Column Name' to Description table\n",
    "df_phecode_icd10_describe.columns= ['Column Name'] + list(df_phecode_icd10_describe.columns[1:])\n",
    "df_phecode_icd10_describe"
   ]
  },
  {
   "cell_type": "code",
   "execution_count": 54,
   "metadata": {},
   "outputs": [],
   "source": [
    "# Calculate Range, Interquartile Range and Variance \n",
    "df_phecode_icd10_describe[\"Range\"] = df_phecode_icd10_describe['max'] - df_phecode_icd10_describe['min']\n",
    "df_phecode_icd10_describe[\"Interquartile_Range\"] = df_phecode_icd10_describe['75%'] - df_phecode_icd10_describe['25%']\n",
    "df_phecode_icd10_describe[\"Variance\"] = (df_phecode_icd10_describe['std'])**2"
   ]
  },
  {
   "cell_type": "code",
   "execution_count": null,
   "metadata": {},
   "outputs": [],
   "source": [
    "# Merge\n",
    "df_phecode_icd10_final = df_phecode_icd10_final.merge(df_phecode_icd10_describe, how = 'left', on = 'Column Name')\n",
    "df_phecode_icd10_final"
   ]
  },
  {
   "cell_type": "code",
   "execution_count": 57,
   "metadata": {},
   "outputs": [],
   "source": [
    "df_phecode_icd10_final.to_csv(\"phecode_icd10_descriptive.csv\")"
   ]
  }
 ],
 "metadata": {
  "kernelspec": {
   "display_name": "base",
   "language": "python",
   "name": "python3"
  },
  "language_info": {
   "codemirror_mode": {
    "name": "ipython",
    "version": 3
   },
   "file_extension": ".py",
   "mimetype": "text/x-python",
   "name": "python",
   "nbconvert_exporter": "python",
   "pygments_lexer": "ipython3",
   "version": "3.11.7"
  }
 },
 "nbformat": 4,
 "nbformat_minor": 2
}
